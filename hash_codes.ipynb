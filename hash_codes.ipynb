{
  "nbformat": 4,
  "nbformat_minor": 0,
  "metadata": {
    "colab": {
      "name": "hash_codes.ipynb",
      "provenance": [],
      "collapsed_sections": []
    },
    "kernelspec": {
      "name": "python3",
      "display_name": "Python 3"
    },
    "language_info": {
      "name": "python"
    }
  },
  "cells": [
    {
      "cell_type": "code",
      "metadata": {
        "id": "DCfWdK-u_Dby"
      },
      "source": [
        "import random\n",
        "import string\n",
        "from typing import Type, TypeVar\n",
        "import sys\n",
        "import numpy as np\n",
        "from sortedcontainers import SortedList  # For the \"storing elsewhere\" approach to collision resolution\n",
        "\n",
        "\n",
        "def str_to_class(classname):\n",
        "    \"\"\"\n",
        "    https://stackoverflow.com/questions/1176136/convert-string-to-python-class-object\n",
        "\n",
        "    Trying to force Python into a semi-functional style\n",
        "    \"\"\"\n",
        "    return getattr(sys.modules[__name__], classname)\n",
        "\n",
        "\n",
        "class Coder:\n",
        "    \"\"\"https://stackoverflow.com/questions/55751368/python-how-to-pass-to-a-function-argument-type-of-a-class-object\n",
        "    -typing \"\"\"\n",
        "\n",
        "    T = 0\n",
        "    table = []\n",
        "    collision_res_type = ''\n",
        "    buckets = []\n",
        "\n",
        "    def __init__(self):\n",
        "        print(\"Creating a %s\" % self.__class__.__name__)\n",
        "\n",
        "    def init_buckets(self):\n",
        "        if self.collision_res_type == 'store':\n",
        "            self.buckets = np.empty(self.T, dtype=SortedList)\n",
        "\n",
        "    def insert(self, h, s, x):\n",
        "        if self.table[h] is None:\n",
        "            self.table[h] = s\n",
        "        else:\n",
        "            self.resolve_collision(h, s, x)\n",
        "\n",
        "    def resolve_collision(self, h, s, x):\n",
        "        if self.collision_res_type == 'append':\n",
        "            self.resolve_append(h, s)\n",
        "        elif self.collision_res_type == 'store':\n",
        "            self.resolve_store(h, s, x)\n",
        "        else:\n",
        "            print(\"Bad value for collision resolution type\")\n",
        "\n",
        "    def resolve_append(self, h, s):\n",
        "        for i in range(self.T):\n",
        "            if self.table[(i + h) % self.T] is None:\n",
        "                self.table[(i + h) % self.T] = s\n",
        "                return\n",
        "        print(\"Could not resolve collision for hash \", h)\n",
        "\n",
        "    def resolve_store(self, h, s, x):\n",
        "        if self.table[h] >= 0:\n",
        "            # Then we need to create new bucket\n",
        "            self.buckets[h] = SortedList()\n",
        "            self.buckets[h].update([x[self.table[h]], x[s]])\n",
        "            self.table[h] = -h\n",
        "        else:\n",
        "            self.buckets[h].update([x[s]])\n",
        "\n",
        "    def lookup(self, h, xs):\n",
        "        if self.table[h] is None:\n",
        "            return False, []\n",
        "        else:\n",
        "            s = self.table[h]\n",
        "            if s < 0:  # Then the resolution type is 'store' and it's in a bucket\n",
        "                bucket = self.buckets[-s]\n",
        "                if xs in bucket:\n",
        "                    return True, []\n",
        "                else:\n",
        "                    return False, []\n",
        "            else:\n",
        "                return True, s\n",
        "            # if xs == x\n",
        "\n",
        "TCoder = TypeVar(\"TCoder\", bound=Coder)\n",
        "\n",
        "\n",
        "class Div(Coder):\n",
        "\n",
        "    def __init__(self, collision_res_type):\n",
        "        self.T = 37  # Prime number, preferably far from power of 2\n",
        "        self.table = np.full(self.T, None)  # Initialize table with None\n",
        "        self.collision_res_type = collision_res_type\n",
        "        self.init_buckets()\n",
        "\n",
        "    def hash(self, x) -> None:\n",
        "        # If a string is input, convert it to an int\n",
        "        if isinstance(x, str):\n",
        "            charsum = 0\n",
        "            for character in range(0, len(x)):\n",
        "                charsum += ord(x[character])\n",
        "            x = charsum\n",
        "        return x % self.T\n",
        "\n",
        "\n",
        "class Var_string(Coder):\n",
        "\n",
        "    def __init__(self, collision_res_type):\n",
        "        self.T = 256\n",
        "        self.table = np.full(self.T, None)  # Initialize table with None\n",
        "        self.collision_res_type = collision_res_type\n",
        "        self.init_buckets()\n",
        "\n",
        "    def hash(self, x) -> None:\n",
        "        if isinstance(x, str):\n",
        "            sum = 0\n",
        "            for i in range(len(x)):\n",
        "                sum = (sum + ord(x[i])) % 256\n",
        "            return sum\n",
        "\n",
        "\n",
        "class Var_string_xor(Coder):\n",
        "    rand8 = np.random.permutation(range(0, 256))\n",
        "\n",
        "    def __init__(self, collision_res_type):\n",
        "        self.T = 65536\n",
        "        self.table = np.full(self.T, None)  # Initialize table with None\n",
        "        self.collision_res_type = collision_res_type\n",
        "        self.init_buckets()\n",
        "\n",
        "    def hash(self, x) -> None:\n",
        "        if isinstance(x, str):\n",
        "            sum1 = ord(x[0])\n",
        "            sum2 = ord(x[1])\n",
        "            for i in range(1, len(x)):\n",
        "                sum1 = self.rand8[sum1 ^ ord(x[i])]\n",
        "                sum2 = self.rand8[sum2 ^ ord(x[i])]\n",
        "\n",
        "            return (sum1 << 8) | sum2\n",
        "\n",
        "\n",
        "def resolve_collision(v: Coder, h, s) -> None:\n",
        "    v.resolve_collision(h, s)\n",
        "\n",
        "\n",
        "def instantiate(class_to_instantiate: Type[TCoder], collision_res_type) -> TCoder:\n",
        "    return class_to_instantiate(collision_res_type)  # create an instance\n",
        "\n",
        "\n",
        "# Note use of zero-indexing throughout, unlike the textbook"
      ],
      "execution_count": 1,
      "outputs": []
    },
    {
      "cell_type": "markdown",
      "metadata": {
        "id": "04aBwTfez3Dn"
      },
      "source": [
        "# **Div hashing with 'append' collision handling**\n",
        "\n",
        "---\n",
        "\n"
      ]
    },
    {
      "cell_type": "code",
      "metadata": {
        "colab": {
          "base_uri": "https://localhost:8080/"
        },
        "id": "NtPzkDPAz1Fm",
        "outputId": "2693c347-567a-47af-8332-f2534c622c9a"
      },
      "source": [
        "x_size = 40\n",
        "x = np.empty(x_size, dtype=object)\n",
        "y = np.copy(x)\n",
        "for i in range(x_size):\n",
        "    x[i] = tmp = ''.join(random.choices(string.ascii_uppercase, k=4))\n",
        "    y[i] = tmp = ''.join(random.choices(string.ascii_uppercase, k=10))\n",
        "\n",
        "coder = instantiate(str_to_class('Div'), 'append')\n",
        "\n",
        "for s in range(len(x)):\n",
        "    h = coder.hash(x[s])\n",
        "    coder.insert(h, s, x)\n",
        "\n",
        "h = coder.hash(x[1])\n",
        "found, loc = coder.lookup(h, x[1])\n",
        "if found:\n",
        "    print(\"Found record \", x[loc], \" with data \", y[loc])\n",
        "else:\n",
        "    print(\"Record not found\")"
      ],
      "execution_count": 2,
      "outputs": [
        {
          "output_type": "stream",
          "name": "stdout",
          "text": [
            "Could not resolve collision for hash  12\n",
            "Could not resolve collision for hash  32\n",
            "Could not resolve collision for hash  12\n",
            "Found record  TULZ  with data  JCOSXDDVHN\n"
          ]
        }
      ]
    },
    {
      "cell_type": "markdown",
      "metadata": {
        "id": "8Wf3WMHf0HDp"
      },
      "source": [
        "# **Div hashing with 'store elsewhere' collision handling**\n",
        "\n",
        "---\n",
        "\n"
      ]
    },
    {
      "cell_type": "code",
      "metadata": {
        "colab": {
          "base_uri": "https://localhost:8080/"
        },
        "id": "IZtrpyZr0CNp",
        "outputId": "0ce38d12-2968-421b-fdf7-e3ee43900dd9"
      },
      "source": [
        "x_size = 200\n",
        "x = np.empty(x_size, dtype=object)\n",
        "y = np.copy(x)\n",
        "for i in range(x_size):\n",
        "    x[i] = tmp = ''.join(random.choices(string.ascii_uppercase, k=4))\n",
        "    y[i] = tmp = ''.join(random.choices(string.ascii_uppercase, k=10))\n",
        "\n",
        "coder = instantiate(str_to_class('Div'), 'store')\n",
        "\n",
        "for s in range(len(x)):\n",
        "    h = coder.hash(x[s])\n",
        "    coder.insert(h, s, x)\n",
        "\n",
        "# h = coder.hash(x[1])\n",
        "h = coder.hash(\"[fji\")\n",
        "found, loc = coder.lookup(h, x[1])\n",
        "if found:\n",
        "    print(\"Found record\")\n",
        "else:\n",
        "    print(\"Record not found\")"
      ],
      "execution_count": 3,
      "outputs": [
        {
          "output_type": "stream",
          "name": "stdout",
          "text": [
            "Record not found\n"
          ]
        }
      ]
    },
    {
      "cell_type": "markdown",
      "metadata": {
        "id": "Gx5Mnx7hyGH4"
      },
      "source": [
        "# **var_string hashing with 'append' collision handling**\n",
        "\n",
        "---\n",
        "\n"
      ]
    },
    {
      "cell_type": "code",
      "metadata": {
        "colab": {
          "base_uri": "https://localhost:8080/"
        },
        "id": "-tQlbWWzyDNe",
        "outputId": "80d7ffb1-ea8c-4701-fc0c-078577517162"
      },
      "source": [
        "x_size = 260\n",
        "x = np.empty(x_size, dtype=object)\n",
        "y = np.copy(x)\n",
        "for i in range(x_size):\n",
        "    x[i] = tmp = ''.join(random.choices(string.ascii_uppercase, k=4))\n",
        "    y[i] = tmp = ''.join(random.choices(string.ascii_uppercase, k=10))\n",
        "\n",
        "coder = instantiate(str_to_class('Var_string'), 'append')\n",
        "\n",
        "for s in range(len(x)):\n",
        "    h = coder.hash(x[s])\n",
        "    coder.insert(h, s, x)\n",
        "\n",
        "h = coder.hash(x[1])\n",
        "found, loc = coder.lookup(h, x[1])\n",
        "if found:\n",
        "    print(\"Found record \", x[loc], \" with data \", y[loc])\n",
        "else:\n",
        "    print(\"Record not found\")"
      ],
      "execution_count": 4,
      "outputs": [
        {
          "output_type": "stream",
          "name": "stdout",
          "text": [
            "Could not resolve collision for hash  81\n",
            "Could not resolve collision for hash  25\n",
            "Could not resolve collision for hash  41\n",
            "Could not resolve collision for hash  48\n",
            "Found record  ETXC  with data  VONWWYEZNV\n"
          ]
        }
      ]
    },
    {
      "cell_type": "markdown",
      "metadata": {
        "id": "Trd9nB3Wx6R9"
      },
      "source": [
        "# **var_string hashing with 'store elsewhere' collision handling**\n",
        "\n",
        "---\n",
        "\n"
      ]
    },
    {
      "cell_type": "code",
      "metadata": {
        "colab": {
          "base_uri": "https://localhost:8080/"
        },
        "id": "kSk81NZGx85w",
        "outputId": "299b07db-ce39-432a-b40f-2e48ddc19473"
      },
      "source": [
        "x_size = 10000\n",
        "x = np.empty(x_size, dtype=object)\n",
        "y = np.copy(x)\n",
        "for i in range(x_size):\n",
        "    x[i] = tmp = ''.join(random.choices(string.ascii_uppercase, k=4))\n",
        "    y[i] = tmp = ''.join(random.choices(string.ascii_uppercase, k=10))\n",
        "\n",
        "coder = instantiate(str_to_class('Var_string'), 'store')\n",
        "\n",
        "for s in range(len(x)):\n",
        "    h = coder.hash(x[s])\n",
        "    coder.insert(h, s, x)\n",
        "\n",
        "# h = coder.hash(x[1])\n",
        "h = coder.hash(\"[fji\")\n",
        "\n",
        "found, __ = coder.lookup(h, x[1])\n",
        "if found:\n",
        "    print(\"Found record\")\n",
        "else:\n",
        "    print(\"Record not found\")"
      ],
      "execution_count": 5,
      "outputs": [
        {
          "output_type": "stream",
          "name": "stdout",
          "text": [
            "Record not found\n"
          ]
        }
      ]
    },
    {
      "cell_type": "markdown",
      "metadata": {
        "id": "uabuZkQ-wCNf"
      },
      "source": [
        "# **var_string_xor hashing with 'append' collision handling**\n",
        "\n",
        "---\n",
        "\n"
      ]
    },
    {
      "cell_type": "code",
      "metadata": {
        "colab": {
          "base_uri": "https://localhost:8080/"
        },
        "id": "gis8XXb1sziR",
        "outputId": "b6944524-1740-40a4-ab6f-3bfd6366757e"
      },
      "source": [
        "x_size = 65540 # Need 16-bit hashes, so this much data will ensure some collisions\n",
        "x = np.empty(x_size, dtype=object)\n",
        "y = np.copy(x)\n",
        "for i in range(x_size):\n",
        "    x[i] = tmp = ''.join(random.choices(string.ascii_uppercase, k=4))\n",
        "    y[i] = tmp = ''.join(random.choices(string.ascii_uppercase, k=10))\n",
        "\n",
        "coder = instantiate(str_to_class('Var_string_xor'), 'append')\n",
        "\n",
        "for s in range(len(x)):\n",
        "    h = coder.hash(x[s])\n",
        "    coder.insert(h, s, x)\n",
        "\n",
        "h = coder.hash(x[1])\n",
        "found, loc = coder.lookup(h, x[1])\n",
        "if found:\n",
        "    print(\"Found record \", x[loc], \" with data \", y[loc])\n",
        "else:\n",
        "    print(\"Record not found\")\n"
      ],
      "execution_count": 6,
      "outputs": [
        {
          "output_type": "stream",
          "name": "stdout",
          "text": [
            "Could not resolve collision for hash  28526\n",
            "Could not resolve collision for hash  37592\n",
            "Could not resolve collision for hash  476\n",
            "Could not resolve collision for hash  7844\n",
            "Found record  UINT  with data  TGRWKLXKLW\n"
          ]
        }
      ]
    },
    {
      "cell_type": "markdown",
      "metadata": {
        "id": "x2gIy1vYvroB"
      },
      "source": [
        "# **var_string_xor hashing with 'store elsewhere' collision handling**\n",
        "\n",
        "---\n",
        "\n",
        "\n"
      ]
    },
    {
      "cell_type": "code",
      "metadata": {
        "colab": {
          "base_uri": "https://localhost:8080/"
        },
        "id": "ui1tc_YLs7Fa",
        "outputId": "4eeb15a9-2bce-4d16-8dfe-003dda36a6a5"
      },
      "source": [
        "x_size = 100000\n",
        "x = np.empty(x_size, dtype=object)\n",
        "y = np.copy(x)\n",
        "for i in range(x_size):\n",
        "    x[i] = tmp = ''.join(random.choices(string.ascii_uppercase, k=5))\n",
        "    y[i] = tmp = ''.join(random.choices(string.ascii_uppercase, k=10))\n",
        "\n",
        "coder = instantiate(str_to_class('Var_string_xor'), 'store')\n",
        "\n",
        "for s in range(len(x)):\n",
        "    h = coder.hash(x[s])\n",
        "    coder.insert(h, s, x)\n",
        "\n",
        "h = coder.hash(x[1])\n",
        "found, loc = coder.lookup(h, x[1])\n",
        "if found:\n",
        "    print(\"Found record\")\n",
        "else:\n",
        "    print(\"Record not found\")\n"
      ],
      "execution_count": 7,
      "outputs": [
        {
          "output_type": "stream",
          "name": "stdout",
          "text": [
            "Found record\n"
          ]
        }
      ]
    },
    {
      "cell_type": "markdown",
      "metadata": {
        "id": "Pkkel2xA_9K1"
      },
      "source": [
        "# **Just for fun: detect different regions in an edited image with hashing**\n",
        "\n",
        "---\n",
        "\n"
      ]
    },
    {
      "cell_type": "code",
      "metadata": {
        "colab": {
          "base_uri": "https://localhost:8080/",
          "height": 350
        },
        "id": "bB2VCiZZ15zO",
        "outputId": "acb3c1c7-3b98-4fa7-b33b-9b01086dfeec"
      },
      "source": [
        "from PIL import Image\n",
        "from matplotlib import pyplot as plt\n",
        "\n",
        "\n",
        "block_size = 80     # Unconventional block size but for simplicity with this example\n",
        "def hash_image(image):\n",
        "    w = image.shape[1]   # image height\n",
        "    h = image.shape[0]   # image width\n",
        "    hash = ''\n",
        "    for i in range(int(h / block_size)):\n",
        "        for j in range(int(w / block_size)):\n",
        "            block = image[i * block_size: (i+1) * block_size, j * block_size: (j+1) * block_size]\n",
        "            block_hash = chr(int(np.sum(block) % 26 + 65))\n",
        "            hash = hash + block_hash\n",
        "    return hash\n",
        "\n",
        "\n",
        "image = np.array(Image.open('/content/tesla.png'))\n",
        "plt.imshow(image)\n",
        "plt.show()\n",
        "hash = hash_image(image)\n",
        "print(\"Hash 1: \", hash)\n",
        "\n",
        "image2 = np.array(Image.open('/content/tesla_glasses.png'))\n",
        "plt.imshow(image2)\n",
        "plt.show()\n",
        "hash2 = hash_image(image2)\n",
        "print(\"Hash 2: \", hash2)\n",
        "\n",
        "# Visualize the patches with different hashes\n",
        "w = image.shape[1]   # image height\n",
        "h = image.shape[0]   # image width\n",
        "plt.imshow(image2)\n",
        "fig = plt.gcf()\n",
        "ax = fig.gca()\n",
        "for i in range(int(h / block_size)):\n",
        "    for j in range(int(w / block_size)):\n",
        "        if hash[i * int(w / block_size) + j] != hash2[i * int(w / block_size) + j]:\n",
        "            square = plt.Rectangle((j*block_size, i*block_size), block_size,block_size, linewidth=2, edgecolor='r', facecolor='none')\n",
        "            ax.add_patch(square)\n",
        "\n",
        "plt.show()\n",
        "\n"
      ],
      "execution_count": 8,
      "outputs": [
        {
          "output_type": "error",
          "ename": "FileNotFoundError",
          "evalue": "ignored",
          "traceback": [
            "\u001b[0;31m---------------------------------------------------------------------------\u001b[0m",
            "\u001b[0;31mFileNotFoundError\u001b[0m                         Traceback (most recent call last)",
            "\u001b[0;32m<ipython-input-8-edb633358d3e>\u001b[0m in \u001b[0;36m<module>\u001b[0;34m()\u001b[0m\n\u001b[1;32m     16\u001b[0m \u001b[0;34m\u001b[0m\u001b[0m\n\u001b[1;32m     17\u001b[0m \u001b[0;34m\u001b[0m\u001b[0m\n\u001b[0;32m---> 18\u001b[0;31m \u001b[0mimage\u001b[0m \u001b[0;34m=\u001b[0m \u001b[0mnp\u001b[0m\u001b[0;34m.\u001b[0m\u001b[0marray\u001b[0m\u001b[0;34m(\u001b[0m\u001b[0mImage\u001b[0m\u001b[0;34m.\u001b[0m\u001b[0mopen\u001b[0m\u001b[0;34m(\u001b[0m\u001b[0;34m'/content/tesla.png'\u001b[0m\u001b[0;34m)\u001b[0m\u001b[0;34m)\u001b[0m\u001b[0;34m\u001b[0m\u001b[0;34m\u001b[0m\u001b[0m\n\u001b[0m\u001b[1;32m     19\u001b[0m \u001b[0mplt\u001b[0m\u001b[0;34m.\u001b[0m\u001b[0mimshow\u001b[0m\u001b[0;34m(\u001b[0m\u001b[0mimage\u001b[0m\u001b[0;34m)\u001b[0m\u001b[0;34m\u001b[0m\u001b[0;34m\u001b[0m\u001b[0m\n\u001b[1;32m     20\u001b[0m \u001b[0mplt\u001b[0m\u001b[0;34m.\u001b[0m\u001b[0mshow\u001b[0m\u001b[0;34m(\u001b[0m\u001b[0;34m)\u001b[0m\u001b[0;34m\u001b[0m\u001b[0;34m\u001b[0m\u001b[0m\n",
            "\u001b[0;32m/usr/local/lib/python3.7/dist-packages/PIL/Image.py\u001b[0m in \u001b[0;36mopen\u001b[0;34m(fp, mode)\u001b[0m\n\u001b[1;32m   2841\u001b[0m \u001b[0;34m\u001b[0m\u001b[0m\n\u001b[1;32m   2842\u001b[0m     \u001b[0;32mif\u001b[0m \u001b[0mfilename\u001b[0m\u001b[0;34m:\u001b[0m\u001b[0;34m\u001b[0m\u001b[0;34m\u001b[0m\u001b[0m\n\u001b[0;32m-> 2843\u001b[0;31m         \u001b[0mfp\u001b[0m \u001b[0;34m=\u001b[0m \u001b[0mbuiltins\u001b[0m\u001b[0;34m.\u001b[0m\u001b[0mopen\u001b[0m\u001b[0;34m(\u001b[0m\u001b[0mfilename\u001b[0m\u001b[0;34m,\u001b[0m \u001b[0;34m\"rb\"\u001b[0m\u001b[0;34m)\u001b[0m\u001b[0;34m\u001b[0m\u001b[0;34m\u001b[0m\u001b[0m\n\u001b[0m\u001b[1;32m   2844\u001b[0m         \u001b[0mexclusive_fp\u001b[0m \u001b[0;34m=\u001b[0m \u001b[0;32mTrue\u001b[0m\u001b[0;34m\u001b[0m\u001b[0;34m\u001b[0m\u001b[0m\n\u001b[1;32m   2845\u001b[0m \u001b[0;34m\u001b[0m\u001b[0m\n",
            "\u001b[0;31mFileNotFoundError\u001b[0m: [Errno 2] No such file or directory: '/content/tesla.png'"
          ]
        }
      ]
    }
  ]
}